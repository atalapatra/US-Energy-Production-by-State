{
 "cells": [
  {
   "cell_type": "markdown",
   "metadata": {},
   "source": [
    "# U.S. Energy Production by State"
   ]
  },
  {
   "cell_type": "markdown",
   "metadata": {},
   "source": [
    "## Functions and Modules"
   ]
  },
  {
   "cell_type": "code",
   "execution_count": 1,
   "metadata": {
    "collapsed": true
   },
   "outputs": [],
   "source": [
    "import os\n",
    "import urllib\n",
    "import json\n",
    "from collections import defaultdict\n",
    "import pandas as pd\n",
    "\n",
    "# Pulls data from EIA API.\n",
    "def get_data_from_EIA(APIKey, seriesID):\n",
    "    url = url = 'http://api.eia.gov/series/?api_key=' + APIKey + '&series_id=' + seriesID\n",
    "    response = urllib.urlopen(url)    \n",
    "    data = json.loads(response.read())\n",
    "    return data\n",
    "\n",
    "# Prints JSON data to text file.\n",
    "def write_json_to_txt(jsonObj, filename):\n",
    "    with open(filename, \"w\") as outfile:\n",
    "        json.dump(jsonObj, outfile, indent=4)\n",
    "\n",
    "# Pull data for all states into a nested dictionary.\n",
    "def compile_state_energy_data():\n",
    "    states = [\"AL\", \"AK\", \"AZ\", \"AR\", \"CA\", \"CO\", \"CT\", \"DC\", \"DE\", \"FL\", \"GA\", \n",
    "              \"HI\", \"ID\", \"IL\", \"IN\", \"IA\", \"KS\", \"KY\", \"LA\", \"ME\", \"MD\", \n",
    "              \"MA\", \"MI\", \"MN\", \"MS\", \"MO\", \"MT\", \"NE\", \"NV\", \"NH\", \"NJ\", \n",
    "              \"NM\", \"NY\", \"NC\", \"ND\", \"OH\", \"OK\", \"OR\", \"PA\", \"RI\", \"SC\", \n",
    "              \"SD\", \"TN\", \"TX\", \"UT\", \"VT\", \"VA\", \"WA\", \"WV\", \"WI\", \"WY\"]\n",
    "    totalEnergyProdByState = dict(keys = states)\n",
    "    for state in states:\n",
    "        dataFromEIA = get_data_from_EIA(\"DC4B181A26EDF82B41F2A7446102CAB7\",\"SEDS.TEPRB.%s.A\" % state)\n",
    "        totalEnergyProdByState[state] = dataFromEIA\n",
    "    return totalEnergyProdByState\n",
    "\n",
    "# Get the range of years with recorded data.\n",
    "def get_years(totalEnergyProdByState):\n",
    "    datasetSample = totalEnergyProdByState['AK']['series'][0]['data']\n",
    "    years = [item[0] for item in datasetSample]\n",
    "    return years\n",
    "\n",
    "# Collect data and reorganize by year.\n",
    "def state_energy_by_year(totalEnergyProdByState):\n",
    "    states = [\"AL\", \"AK\", \"AZ\", \"AR\", \"CA\", \"CO\", \"CT\", \"DC\", \"DE\", \"FL\", \"GA\", \n",
    "              \"HI\", \"ID\", \"IL\", \"IN\", \"IA\", \"KS\", \"KY\", \"LA\", \"ME\", \"MD\", \n",
    "              \"MA\", \"MI\", \"MN\", \"MS\", \"MO\", \"MT\", \"NE\", \"NV\", \"NH\", \"NJ\", \n",
    "              \"NM\", \"NY\", \"NC\", \"ND\", \"OH\", \"OK\", \"OR\", \"PA\", \"RI\", \"SC\", \n",
    "              \"SD\", \"TN\", \"TX\", \"UT\", \"VT\", \"VA\", \"WA\", \"WV\", \"WI\", \"WY\"]\n",
    "    years = get_years(totalEnergyProdByState)\n",
    "    \n",
    "    stateDict = dict((states,0) for states in states)\n",
    "    stateEnergyByYear = dict((year,0) for year in years)\n",
    "    \n",
    "    for year in years:\n",
    "        stateEnergyByYear[year] = stateDict\n",
    "        \n",
    "    energyByStateSimple = stateDict\n",
    "    for state in states:\n",
    "        energyByStateSimple[state] = dict(totalEnergyProdByState[state]['series'][0]['data'])  \n",
    "        \n",
    "    flipped = defaultdict(dict)\n",
    "    for key, val in energyByStateSimple.items():\n",
    "        for subkey, subval in val.items():\n",
    "            flipped[subkey][key] = subval\n",
    "            \n",
    "    stateEnergyByYear = dict(flipped)\n",
    "    \n",
    "    return stateEnergyByYear"
   ]
  },
  {
   "cell_type": "markdown",
   "metadata": {},
   "source": [
    "## Pulling the Data"
   ]
  },
  {
   "cell_type": "code",
   "execution_count": 2,
   "metadata": {
    "collapsed": false
   },
   "outputs": [],
   "source": [
    "# Pull data from EIA API and sort by state and year in nested dictionary.\n",
    "totalEnergyProdByState = compile_state_energy_data()\n",
    "stateEnergyByYear = state_energy_by_year(totalEnergyProdByState)\n",
    "\n",
    "# Convert data to pandas dataframe\n",
    "stateEnergyByYear = pd.DataFrame.from_dict(stateEnergyByYear)"
   ]
  },
  {
   "cell_type": "code",
   "execution_count": 5,
   "metadata": {
    "collapsed": false
   },
   "outputs": [
    {
     "name": "stdout",
     "output_type": "stream",
     "text": [
      "AK    2797459\n",
      "AL    1578649\n",
      "AR     461761\n",
      "AZ     691893\n",
      "CA    3103034\n",
      "CO    1568048\n",
      "CT     181756\n",
      "DC       1257\n",
      "DE       1999\n",
      "FL     571981\n",
      "GA     560072\n",
      "HI      21821\n",
      "IA     152226\n",
      "ID     167747\n",
      "IL    1957541\n",
      "IN     812027\n",
      "KS     912114\n",
      "KY    3640198\n",
      "LA    2913612\n",
      "MA     112382\n",
      "MD     284200\n",
      "ME     159191\n",
      "MI     598129\n",
      "MN     234578\n",
      "MO     131388\n",
      "MS     381140\n",
      "MT    1048885\n",
      "NC     531858\n",
      "ND     696137\n",
      "NE     190064\n",
      "NH     129575\n",
      "NJ     342564\n",
      "NM    2576134\n",
      "NV      53094\n",
      "NY     823734\n",
      "OH     925535\n",
      "OK    2281808\n",
      "OR     511214\n",
      "PA    3038170\n",
      "RI       4403\n",
      "SC     627969\n",
      "SD      80564\n",
      "TN     498130\n",
      "TX    9544713\n",
      "UT    1029827\n",
      "VA    1345664\n",
      "VT      63217\n",
      "WA    1209424\n",
      "WI     234340\n",
      "WV    4242053\n",
      "WY    7306693\n",
      "Name: 1999, dtype: int64\n"
     ]
    }
   ],
   "source": [
    "print stateEnergyByYear['1999']"
   ]
  },
  {
   "cell_type": "code",
   "execution_count": null,
   "metadata": {
    "collapsed": true
   },
   "outputs": [],
   "source": []
  }
 ],
 "metadata": {
  "kernelspec": {
   "display_name": "Python 2",
   "language": "python",
   "name": "python2"
  },
  "language_info": {
   "codemirror_mode": {
    "name": "ipython",
    "version": 2
   },
   "file_extension": ".py",
   "mimetype": "text/x-python",
   "name": "python",
   "nbconvert_exporter": "python",
   "pygments_lexer": "ipython2",
   "version": "2.7.11"
  }
 },
 "nbformat": 4,
 "nbformat_minor": 0
}
