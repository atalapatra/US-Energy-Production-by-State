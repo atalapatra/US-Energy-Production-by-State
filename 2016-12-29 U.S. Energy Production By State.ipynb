{
 "cells": [
  {
   "cell_type": "markdown",
   "metadata": {},
   "source": [
    "### Functions"
   ]
  },
  {
   "cell_type": "code",
   "execution_count": 6,
   "metadata": {
    "collapsed": true
   },
   "outputs": [],
   "source": [
    "from __future__ import print_function\n",
    "import os\n",
    "import urllib\n",
    "import json\n",
    "from collections import defaultdict\n",
    "import pandas as pd\n",
    "\n",
    "# Pulls data from EIA API.\n",
    "def get_data_from_EIA(APIKey, seriesID):\n",
    "    url = url = 'http://api.eia.gov/series/?api_key=' + APIKey + '&series_id=' + seriesID\n",
    "    response = urllib.request.urlopen(url)    \n",
    "    data = json.loads(response.read().decode('utf8'))\n",
    "    return data\n",
    "\n",
    "# Prints JSON data to text file.\n",
    "def write_json_to_txt(jsonObj, filename):\n",
    "    with open(filename, \"w\") as outfile:\n",
    "        json.dump(jsonObj, outfile, indent=4)\n",
    "\n",
    "# Pull data for all states into a nested dictionary.\n",
    "def compile_state_energy_data():\n",
    "    states = [\"AL\", \"AK\", \"AZ\", \"AR\", \"CA\", \"CO\", \"CT\", \"DC\", \"DE\", \"FL\", \"GA\", \n",
    "              \"HI\", \"ID\", \"IL\", \"IN\", \"IA\", \"KS\", \"KY\", \"LA\", \"ME\", \"MD\", \n",
    "              \"MA\", \"MI\", \"MN\", \"MS\", \"MO\", \"MT\", \"NE\", \"NV\", \"NH\", \"NJ\", \n",
    "              \"NM\", \"NY\", \"NC\", \"ND\", \"OH\", \"OK\", \"OR\", \"PA\", \"RI\", \"SC\", \n",
    "              \"SD\", \"TN\", \"TX\", \"UT\", \"VT\", \"VA\", \"WA\", \"WV\", \"WI\", \"WY\"]\n",
    "    totalEnergyProdByState = dict(keys = states)\n",
    "    for state in states:\n",
    "        dataFromEIA = get_data_from_EIA(\"DC4B181A26EDF82B41F2A7446102CAB7\",\"SEDS.TEPRB.%s.A\" % state)\n",
    "        totalEnergyProdByState[state] = dataFromEIA\n",
    "    return totalEnergyProdByState\n",
    "\n",
    "# Get the range of years with recorded data.\n",
    "def get_years(totalEnergyProdByState):\n",
    "    datasetSample = totalEnergyProdByState['AK']['series'][0]['data']\n",
    "    years = [item[0] for item in datasetSample]\n",
    "    return years\n",
    "\n",
    "# Collect data and reorganize by year.\n",
    "def state_energy_by_year(totalEnergyProdByState):\n",
    "    states = [\"AL\", \"AK\", \"AZ\", \"AR\", \"CA\", \"CO\", \"CT\", \"DC\", \"DE\", \"FL\", \"GA\", \n",
    "              \"HI\", \"ID\", \"IL\", \"IN\", \"IA\", \"KS\", \"KY\", \"LA\", \"ME\", \"MD\", \n",
    "              \"MA\", \"MI\", \"MN\", \"MS\", \"MO\", \"MT\", \"NE\", \"NV\", \"NH\", \"NJ\", \n",
    "              \"NM\", \"NY\", \"NC\", \"ND\", \"OH\", \"OK\", \"OR\", \"PA\", \"RI\", \"SC\", \n",
    "              \"SD\", \"TN\", \"TX\", \"UT\", \"VT\", \"VA\", \"WA\", \"WV\", \"WI\", \"WY\"]\n",
    "    years = get_years(totalEnergyProdByState)\n",
    "    \n",
    "    stateDict = dict((states,0) for states in states)\n",
    "    stateEnergyByYear = dict((year,0) for year in years)\n",
    "    \n",
    "    for year in years:\n",
    "        stateEnergyByYear[year] = stateDict\n",
    "        \n",
    "    energyByStateSimple = stateDict\n",
    "    for state in states:\n",
    "        energyByStateSimple[state] = dict(totalEnergyProdByState[state]['series'][0]['data'])  \n",
    "        \n",
    "    flipped = defaultdict(dict)\n",
    "    for key, val in energyByStateSimple.items():\n",
    "        for subkey, subval in val.items():\n",
    "            flipped[subkey][key] = subval\n",
    "            \n",
    "    stateEnergyByYear = dict(flipped)\n",
    "    \n",
    "    return stateEnergyByYear"
   ]
  },
  {
   "cell_type": "markdown",
   "metadata": {},
   "source": [
    "### View Data"
   ]
  },
  {
   "cell_type": "code",
   "execution_count": 9,
   "metadata": {
    "collapsed": false
   },
   "outputs": [],
   "source": [
    "totalEnergyProdByState = compile_state_energy_data()\n",
    "stateEnergyByYear = state_energy_by_year(totalEnergyProdByState)"
   ]
  },
  {
   "cell_type": "code",
   "execution_count": 11,
   "metadata": {
    "collapsed": false
   },
   "outputs": [
    {
     "data": {
      "text/plain": [
       "{'AK': 21554,\n",
       " 'AL': 474229,\n",
       " 'AR': 289353,\n",
       " 'AZ': 36737,\n",
       " 'CA': 2630898,\n",
       " 'CO': 481962,\n",
       " 'CT': 17406,\n",
       " 'DC': 155,\n",
       " 'DE': 4982,\n",
       " 'FL': 37861,\n",
       " 'GA': 96116,\n",
       " 'HI': 292,\n",
       " 'IA': 37943,\n",
       " 'ID': 77688,\n",
       " 'IL': 1526429,\n",
       " 'IN': 441137,\n",
       " 'KS': 1361353,\n",
       " 'KY': 1846570,\n",
       " 'LA': 5071351,\n",
       " 'MA': 53748,\n",
       " 'MD': 61535,\n",
       " 'ME': 59784,\n",
       " 'MI': 174400,\n",
       " 'MN': 34957,\n",
       " 'MO': 102979,\n",
       " 'MS': 526044,\n",
       " 'MT': 289631,\n",
       " 'NC': 127507,\n",
       " 'ND': 197457,\n",
       " 'NE': 169409,\n",
       " 'NH': 25629,\n",
       " 'NJ': 20514,\n",
       " 'NM': 1562831,\n",
       " 'NV': 22267,\n",
       " 'NY': 204924,\n",
       " 'OH': 901866,\n",
       " 'OK': 2072617,\n",
       " 'OR': 190489,\n",
       " 'PA': 2391326,\n",
       " 'RI': 2951,\n",
       " 'SC': 81969,\n",
       " 'SD': 15866,\n",
       " 'TN': 287803,\n",
       " 'TX': 12075806,\n",
       " 'UT': 389446,\n",
       " 'VA': 824357,\n",
       " 'VT': 17339,\n",
       " 'WA': 431849,\n",
       " 'WI': 64968,\n",
       " 'WV': 3237864,\n",
       " 'WY': 1018174}"
      ]
     },
     "execution_count": 11,
     "metadata": {},
     "output_type": "execute_result"
    }
   ],
   "source": [
    "stateEnergyByYear['1960']"
   ]
  },
  {
   "cell_type": "code",
   "execution_count": null,
   "metadata": {
    "collapsed": true
   },
   "outputs": [],
   "source": []
  }
 ],
 "metadata": {
  "anaconda-cloud": {},
  "kernelspec": {
   "display_name": "Python [default]",
   "language": "python",
   "name": "python3"
  },
  "language_info": {
   "codemirror_mode": {
    "name": "ipython",
    "version": 3
   },
   "file_extension": ".py",
   "mimetype": "text/x-python",
   "name": "python",
   "nbconvert_exporter": "python",
   "pygments_lexer": "ipython3",
   "version": "3.5.2"
  }
 },
 "nbformat": 4,
 "nbformat_minor": 1
}
